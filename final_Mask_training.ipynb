{
  "nbformat": 4,
  "nbformat_minor": 0,
  "metadata": {
    "colab": {
      "name": "final_Mask_training.ipynb",
      "provenance": [],
      "toc_visible": true
    },
    "kernelspec": {
      "name": "python3",
      "display_name": "Python 3"
    },
    "accelerator": "GPU"
  },
  "cells": [
    {
      "cell_type": "markdown",
      "metadata": {
        "id": "_k6SbCvTfg1Y",
        "colab_type": "text"
      },
      "source": [
        "Importing Libraries\n"
      ]
    },
    {
      "cell_type": "code",
      "metadata": {
        "id": "BG32Y7W2bARL",
        "colab_type": "code",
        "colab": {
          "base_uri": "https://localhost:8080/",
          "height": 122
        },
        "outputId": "f3cbf03d-28ef-4c04-8c49-1edde905ba6c"
      },
      "source": [
        "from google.colab import drive\n",
        "drive.mount('/content/drive')"
      ],
      "execution_count": 1,
      "outputs": [
        {
          "output_type": "stream",
          "text": [
            "Go to this URL in a browser: https://accounts.google.com/o/oauth2/auth?client_id=947318989803-6bn6qk8qdgf4n4g3pfee6491hc0brc4i.apps.googleusercontent.com&redirect_uri=urn%3aietf%3awg%3aoauth%3a2.0%3aoob&response_type=code&scope=email%20https%3a%2f%2fwww.googleapis.com%2fauth%2fdocs.test%20https%3a%2f%2fwww.googleapis.com%2fauth%2fdrive%20https%3a%2f%2fwww.googleapis.com%2fauth%2fdrive.photos.readonly%20https%3a%2f%2fwww.googleapis.com%2fauth%2fpeopleapi.readonly\n",
            "\n",
            "Enter your authorization code:\n",
            "··········\n",
            "Mounted at /content/drive\n"
          ],
          "name": "stdout"
        }
      ]
    },
    {
      "cell_type": "code",
      "metadata": {
        "id": "knKVkqtBcvJq",
        "colab_type": "code",
        "colab": {}
      },
      "source": [
        "import os\n",
        "import zipfile\n",
        "import random\n",
        "import shutil\n",
        "import tensorflow as tf\n",
        "from tensorflow.keras.optimizers import RMSprop\n",
        "from tensorflow.keras.preprocessing.image import ImageDataGenerator\n",
        "from shutil import copyfile\n",
        "from os import getcwd\n",
        "import cv2"
      ],
      "execution_count": 2,
      "outputs": []
    },
    {
      "cell_type": "markdown",
      "metadata": {
        "id": "zCxV_P0xyYi5",
        "colab_type": "text"
      },
      "source": [
        "Checking Data"
      ]
    },
    {
      "cell_type": "code",
      "metadata": {
        "id": "mQon0W3tffki",
        "colab_type": "code",
        "colab": {
          "base_uri": "https://localhost:8080/",
          "height": 51
        },
        "outputId": "e33f4df0-a507-418f-d234-1b893a48d634"
      },
      "source": [
        "print(\"The number of images with facemask labelled 'yes':\",len(os.listdir('/content/drive/My Drive/Face Mask Detection/dataset/with mask')))\n",
        "print(\"The number of images with facemask labelled 'no':\",len(os.listdir('/content/drive/My Drive/Face Mask Detection/dataset/without mask')))\n"
      ],
      "execution_count": 3,
      "outputs": [
        {
          "output_type": "stream",
          "text": [
            "The number of images with facemask labelled 'yes': 690\n",
            "The number of images with facemask labelled 'no': 686\n"
          ],
          "name": "stdout"
        }
      ]
    },
    {
      "cell_type": "markdown",
      "metadata": {
        "id": "gpQRB4TygK8G",
        "colab_type": "text"
      },
      "source": [
        "#Data Preprocessing\n"
      ]
    },
    {
      "cell_type": "markdown",
      "metadata": {
        "id": "eh6Pg2dPY7pg",
        "colab_type": "text"
      },
      "source": [
        "**Creating Directories for traininig and testing**"
      ]
    },
    {
      "cell_type": "code",
      "metadata": {
        "id": "NLUFljINhRx7",
        "colab_type": "code",
        "colab": {}
      },
      "source": [
        "dir =['/content/drive/My Drive/Face_Mask_normalized','/content/drive/My Drive/Face_Mask','/content/drive/My Drive/Face_Mask/training', '/content/drive/My Drive/Face_Mask/testing',\n",
        "      '/content/drive/My Drive/Face_Mask/training/with_mask','/content/drive/My Drive/Face_Mask/training/without_mask',\n",
        "      '/content/drive/My Drive/Face_Mask/testing/with_mask','/content/drive/My Drive/Face_Mask/testing/without_mask',\n",
        "      '/content/drive/My Drive/Face_Mask_normalized/with_mask','/content/drive/My Drive/Face_Mask_normalized/without_mask']\n",
        "try :\n",
        "  for directories in dir :\n",
        "    os.mkdir(directories)\n",
        "    print(\"Your %s has been created\"%directories)\n",
        "except OSError :\n",
        "  pass "
      ],
      "execution_count": 5,
      "outputs": []
    },
    {
      "cell_type": "code",
      "metadata": {
        "id": "XhgMrdy8dGuA",
        "colab_type": "code",
        "colab": {
          "base_uri": "https://localhost:8080/",
          "height": 51
        },
        "outputId": "cc2eeccd-c65a-44d4-a62c-1a6a57f52daa"
      },
      "source": [
        "ls = ['/content/drive/My Drive/Face_Mask_normalized/with_mask','/content/drive/My Drive/Face_Mask_normalized/without_mask']\n",
        "try :\n",
        "  for directories in ls :\n",
        "    os.mkdir(directories)\n",
        "    print(\"Your %s has been created\"%directories)\n",
        "except OSError :\n",
        "  pass "
      ],
      "execution_count": 6,
      "outputs": [
        {
          "output_type": "stream",
          "text": [
            "Your /content/drive/My Drive/Face_Mask_normalized/with_mask has been created\n",
            "Your /content/drive/My Drive/Face_Mask_normalized/without_mask has been created\n"
          ],
          "name": "stdout"
        }
      ]
    },
    {
      "cell_type": "markdown",
      "metadata": {
        "id": "wT7bmUW8ZFTv",
        "colab_type": "text"
      },
      "source": [
        "**Splitting Data into respective directories**"
      ]
    },
    {
      "cell_type": "code",
      "metadata": {
        "id": "pw3ZL5rlfaz8",
        "colab_type": "code",
        "colab": {}
      },
      "source": [
        "from tqdm import tqdm "
      ],
      "execution_count": 11,
      "outputs": []
    },
    {
      "cell_type": "code",
      "metadata": {
        "id": "dN1Y3qzHXv7c",
        "colab_type": "code",
        "colab": {}
      },
      "source": [
        "def normalize(source_dir,copy_dir) :\n",
        "  for filename in tqdm(os.listdir(source_dir)):  \n",
        "            try:\n",
        "                img_array = cv2.imread(os.path.join(source_dir,filename) ,cv2.IMREAD_GRAYSCALE)  # convert to array\n",
        "                new_array = cv2.resize(img_array, (150, 150))  # resize to normalize data size\n",
        "                os.chdir(copy_dir)\n",
        "                cv2.imwrite(filename,new_array)\n",
        "            except Exception as e:  # in the interest in keeping the output clean...\n",
        "                pass"
      ],
      "execution_count": 14,
      "outputs": []
    },
    {
      "cell_type": "code",
      "metadata": {
        "id": "b6TXjXrDdbHG",
        "colab_type": "code",
        "colab": {
          "base_uri": "https://localhost:8080/",
          "height": 1000
        },
        "outputId": "a877173c-9c80-430e-ce1e-419e53d1e690"
      },
      "source": [
        "source_mask ='/content/drive/My Drive/Face Mask Detection/dataset/with mask/'\n",
        "source_mask_normalized = '/content/drive/My Drive/Face_Mask_normalized/with_mask/'\n",
        "\n",
        "source_without_mask =\"/content/drive/My Drive/Face Mask Detection/dataset/without mask/\"\n",
        "source_without_mask_normalized =\"/content/drive/My Drive/Face_Mask_normalized/without_mask/\"\n",
        "\n",
        "normalize(source_mask,source_mask_normalized)\n",
        "normalize(source_without_mask,source_without_mask_normalized)\n"
      ],
      "execution_count": 16,
      "outputs": [
        {
          "output_type": "stream",
          "text": [
            "\n",
            "  0%|          | 0/686 [00:00<?, ?it/s]\u001b[A\n",
            "  1%|          | 7/686 [00:00<00:10, 67.13it/s]\u001b[A\n",
            "  2%|▏         | 16/686 [00:00<00:09, 72.13it/s]\u001b[A\n",
            "  3%|▎         | 23/686 [00:00<00:11, 56.92it/s]\u001b[A\n",
            "  5%|▍         | 31/686 [00:00<00:10, 61.98it/s]\u001b[A\n",
            "  6%|▌         | 40/686 [00:00<00:09, 67.73it/s]\u001b[A\n",
            "  7%|▋         | 47/686 [00:00<00:12, 50.50it/s]\u001b[A\n",
            "  8%|▊         | 56/686 [00:00<00:10, 57.56it/s]\u001b[A\n",
            "  9%|▉         | 63/686 [00:01<00:13, 46.49it/s]\u001b[A\n",
            " 10%|█         | 72/686 [00:01<00:11, 53.99it/s]\u001b[A\n",
            " 12%|█▏        | 79/686 [00:01<00:13, 44.54it/s]\u001b[A\n",
            " 13%|█▎        | 89/686 [00:01<00:11, 52.87it/s]\u001b[A\n",
            " 14%|█▍        | 96/686 [00:01<00:13, 44.11it/s]\u001b[A\n",
            " 15%|█▌        | 104/686 [00:01<00:11, 50.25it/s]\u001b[A\n",
            " 16%|█▋        | 112/686 [00:02<00:13, 42.97it/s]\u001b[A\n",
            " 17%|█▋        | 120/686 [00:02<00:11, 49.10it/s]\u001b[A\n",
            " 19%|█▉        | 130/686 [00:02<00:11, 46.41it/s]\u001b[A\n",
            " 20%|██        | 139/686 [00:02<00:10, 53.72it/s]\u001b[A\n",
            " 22%|██▏       | 148/686 [00:02<00:11, 47.14it/s]\u001b[A\n",
            " 23%|██▎       | 156/686 [00:02<00:09, 53.09it/s]\u001b[A\n",
            " 24%|██▍       | 164/686 [00:03<00:08, 58.92it/s]\u001b[A\n",
            " 25%|██▍       | 171/686 [00:03<00:09, 52.55it/s]\u001b[A\n",
            " 26%|██▌       | 180/686 [00:03<00:08, 59.72it/s]\u001b[A\n",
            " 27%|██▋       | 187/686 [00:03<00:10, 47.58it/s]\u001b[A\n",
            " 29%|██▊       | 197/686 [00:03<00:08, 55.94it/s]\u001b[A\n",
            " 30%|██▉       | 204/686 [00:03<00:10, 45.15it/s]\u001b[A\n",
            " 31%|███       | 214/686 [00:03<00:08, 53.57it/s]\u001b[A\n",
            " 32%|███▏      | 221/686 [00:04<00:09, 50.05it/s]\u001b[A\n",
            " 33%|███▎      | 229/686 [00:04<00:08, 55.97it/s]\u001b[A\n",
            " 34%|███▍      | 236/686 [00:04<00:09, 45.48it/s]\u001b[A\n",
            " 36%|███▌      | 245/686 [00:04<00:08, 52.49it/s]\u001b[A\n",
            " 37%|███▋      | 254/686 [00:04<00:09, 46.59it/s]\u001b[A\n",
            " 38%|███▊      | 263/686 [00:04<00:07, 53.40it/s]\u001b[A\n",
            " 39%|███▉      | 270/686 [00:05<00:07, 52.52it/s]\u001b[A\n",
            " 40%|████      | 276/686 [00:05<00:09, 42.83it/s]\u001b[A\n",
            " 42%|████▏     | 285/686 [00:05<00:07, 50.70it/s]\u001b[A\n",
            " 43%|████▎     | 292/686 [00:05<00:09, 43.69it/s]\u001b[A\n",
            " 44%|████▍     | 302/686 [00:05<00:07, 51.49it/s]\u001b[A\n",
            " 45%|████▌     | 309/686 [00:05<00:08, 43.40it/s]\u001b[A\n",
            " 46%|████▋     | 318/686 [00:06<00:07, 51.03it/s]\u001b[A\n",
            " 47%|████▋     | 325/686 [00:06<00:06, 55.50it/s]\u001b[A\n",
            " 48%|████▊     | 332/686 [00:06<00:06, 52.89it/s]\u001b[A\n",
            " 50%|████▉     | 342/686 [00:06<00:05, 60.95it/s]\u001b[A\n",
            " 51%|█████     | 350/686 [00:06<00:07, 43.39it/s]\u001b[A\n",
            " 52%|█████▏    | 359/686 [00:06<00:06, 50.80it/s]\u001b[A\n",
            " 53%|█████▎    | 366/686 [00:07<00:07, 41.21it/s]\u001b[A\n",
            " 55%|█████▍    | 374/686 [00:07<00:06, 48.07it/s]\u001b[A\n",
            " 56%|█████▌    | 381/686 [00:07<00:07, 40.50it/s]\u001b[A\n",
            " 57%|█████▋    | 390/686 [00:07<00:06, 47.87it/s]\u001b[A\n",
            " 58%|█████▊    | 397/686 [00:07<00:06, 41.58it/s]\u001b[A\n",
            " 59%|█████▉    | 406/686 [00:07<00:05, 49.09it/s]\u001b[A\n",
            " 60%|██████    | 413/686 [00:08<00:06, 41.76it/s]\u001b[A\n",
            " 61%|██████    | 420/686 [00:08<00:05, 46.90it/s]\u001b[A\n",
            " 63%|██████▎   | 429/686 [00:08<00:04, 54.34it/s]\u001b[A\n",
            " 64%|██████▎   | 436/686 [00:08<00:05, 43.87it/s]\u001b[A\n",
            " 65%|██████▍   | 443/686 [00:08<00:04, 49.27it/s]\u001b[A\n",
            " 65%|██████▌   | 449/686 [00:08<00:05, 46.79it/s]\u001b[A\n",
            " 67%|██████▋   | 458/686 [00:08<00:04, 54.01it/s]\u001b[A\n",
            " 68%|██████▊   | 465/686 [00:09<00:04, 45.45it/s]\u001b[A\n",
            " 69%|██████▉   | 473/686 [00:09<00:04, 51.93it/s]\u001b[A\n",
            " 70%|███████   | 482/686 [00:09<00:04, 46.64it/s]\u001b[A\n",
            " 72%|███████▏  | 492/686 [00:09<00:03, 54.75it/s]\u001b[A\n",
            " 73%|███████▎  | 500/686 [00:09<00:03, 46.93it/s]\u001b[A\n",
            " 74%|███████▍  | 509/686 [00:09<00:03, 54.24it/s]\u001b[A\n",
            " 75%|███████▌  | 517/686 [00:10<00:03, 49.70it/s]\u001b[A\n",
            " 76%|███████▋  | 524/686 [00:10<00:03, 53.18it/s]\u001b[A\n",
            " 78%|███████▊  | 532/686 [00:10<00:02, 58.44it/s]\u001b[A\n",
            " 79%|███████▊  | 539/686 [00:10<00:03, 45.97it/s]\u001b[A\n",
            " 80%|███████▉  | 548/686 [00:10<00:02, 53.30it/s]\u001b[A\n",
            " 81%|████████  | 555/686 [00:10<00:03, 43.38it/s]\u001b[A\n",
            " 82%|████████▏ | 564/686 [00:10<00:02, 50.63it/s]\u001b[A\n",
            " 83%|████████▎ | 571/686 [00:11<00:02, 48.13it/s]\u001b[A\n",
            " 85%|████████▍ | 580/686 [00:11<00:01, 54.97it/s]\u001b[A\n",
            " 86%|████████▌ | 588/686 [00:11<00:02, 47.49it/s]\u001b[A\n",
            " 87%|████████▋ | 596/686 [00:11<00:01, 54.01it/s]\u001b[A\n",
            " 88%|████████▊ | 605/686 [00:11<00:01, 60.39it/s]\u001b[A\n",
            " 89%|████████▉ | 612/686 [00:11<00:01, 43.88it/s]\u001b[A\n",
            " 91%|█████████ | 621/686 [00:11<00:01, 51.64it/s]\u001b[A\n",
            " 92%|█████████▏| 628/686 [00:12<00:01, 49.11it/s]\u001b[A\n",
            " 93%|█████████▎| 636/686 [00:12<00:00, 54.90it/s]\u001b[A\n",
            " 94%|█████████▎| 643/686 [00:12<00:00, 44.66it/s]\u001b[A\n",
            " 95%|█████████▌| 653/686 [00:12<00:00, 52.62it/s]\u001b[A\n",
            " 96%|█████████▌| 660/686 [00:12<00:00, 42.66it/s]\u001b[A\n",
            " 98%|█████████▊| 669/686 [00:12<00:00, 48.50it/s]\u001b[A\n",
            " 98%|█████████▊| 675/686 [00:13<00:00, 46.97it/s]\u001b[A\n",
            "100%|██████████| 686/686 [00:13<00:00, 51.93it/s]\n"
          ],
          "name": "stderr"
        }
      ]
    },
    {
      "cell_type": "code",
      "metadata": {
        "id": "oKer6rgUks_O",
        "colab_type": "code",
        "colab": {
          "base_uri": "https://localhost:8080/",
          "height": 34
        },
        "outputId": "2502be40-6c76-4f4f-d048-6e4a274c8a0a"
      },
      "source": [
        "for data in os.listdir('/content/drive/My Drive/Face_Mask_normalized/with_mask/') :\n",
        "  img = cv2.imread('/content/drive/My Drive/Face_Mask_normalized/with_mask/'+data)\n",
        "  print(img.shape)\n",
        "  break\n",
        "  "
      ],
      "execution_count": 28,
      "outputs": [
        {
          "output_type": "stream",
          "text": [
            "(150, 150, 3)\n"
          ],
          "name": "stdout"
        }
      ]
    },
    {
      "cell_type": "code",
      "metadata": {
        "id": "u2DkNOjAVHx4",
        "colab_type": "code",
        "colab": {}
      },
      "source": [
        "def split_files(source_dir,training_dir,testing_dir,split_size):\n",
        "  repo =[]\n",
        "  for filenames in tqdm(os.listdir(source_dir) ):\n",
        "    if os.path.getsize(source_dir+filenames):\n",
        "      repo.append(filenames)\n",
        "\n",
        "  length = len(repo)\n",
        "  split = int(split_size*length)\n",
        "  random.sample(repo,length)\n",
        "  training =repo[:split]\n",
        "  testing = repo[split:]\n",
        "  for files in training :\n",
        "    copyfile(source_dir+files,training_dir+files)\n",
        "  for files in testing :\n",
        "    copyfile(source_dir+files,testing_dir+files)\n"
      ],
      "execution_count": 17,
      "outputs": []
    },
    {
      "cell_type": "code",
      "metadata": {
        "id": "n-iW9_iKgkq8",
        "colab_type": "code",
        "colab": {
          "base_uri": "https://localhost:8080/",
          "height": 136
        },
        "outputId": "a37da410-a0ab-4324-d17a-7f783370b49a"
      },
      "source": [
        "training_with_mask = \"/content/drive/My Drive/Face_Mask/training/with_mask/\"\n",
        "training_without_mask =\"/content/drive/My Drive/Face_Mask/training/without_mask/\"\n",
        "testing_with_mask = \"/content/drive/My Drive/Face_Mask/testing/with_mask/\"\n",
        "testing_without_mask=\"/content/drive/My Drive/Face_Mask/testing/without_mask/\"\n",
        "\n",
        "split_files(source_mask_normalized,training_with_mask,testing_with_mask,0.8)\n",
        "split_files(source_without_mask_normalized,training_without_mask,testing_without_mask,0.8)"
      ],
      "execution_count": 18,
      "outputs": [
        {
          "output_type": "stream",
          "text": [
            "\n",
            "  0%|          | 0/690 [00:00<?, ?it/s]\u001b[A\n",
            "100%|██████████| 690/690 [00:00<00:00, 4412.75it/s]\n",
            "\n",
            "  0%|          | 0/686 [00:00<?, ?it/s]\u001b[A\n",
            " 48%|████▊     | 327/686 [00:00<00:00, 3262.01it/s]\u001b[A\n",
            "100%|██████████| 686/686 [00:00<00:00, 3035.34it/s]\n"
          ],
          "name": "stderr"
        }
      ]
    },
    {
      "cell_type": "code",
      "metadata": {
        "id": "M8G0rYMIg-Xp",
        "colab_type": "code",
        "colab": {
          "base_uri": "https://localhost:8080/",
          "height": 85
        },
        "outputId": "40b25c11-8f86-4e9d-bf11-aca08aee885d"
      },
      "source": [
        "print(len(os.listdir(training_with_mask)))\n",
        "print(len(os.listdir(training_without_mask)))\n",
        "print(len(os.listdir(testing_with_mask)))\n",
        "print(len(os.listdir(testing_without_mask)))"
      ],
      "execution_count": 19,
      "outputs": [
        {
          "output_type": "stream",
          "text": [
            "552\n",
            "548\n",
            "138\n",
            "138\n"
          ],
          "name": "stdout"
        }
      ]
    },
    {
      "cell_type": "markdown",
      "metadata": {
        "id": "z0Vjx8MRWA24",
        "colab_type": "text"
      },
      "source": [
        "**Checkpoint for storing best model**\n"
      ]
    },
    {
      "cell_type": "code",
      "metadata": {
        "id": "efyefWCBWiQ7",
        "colab_type": "code",
        "colab": {}
      },
      "source": [
        "#Defining a new directory for storing checkpoint\n",
        "\n",
        "#os.mkdir('/content/drive/My Drive/Face_Mask/model_weights/')\n",
        "\n",
        "EPOCHS = 5\n",
        "checkpoint_filepath = '/content/drive/My Drive/Face_Mask/model_weights/'\n",
        "model_checkpoint_callback = tf.keras.callbacks.ModelCheckpoint(\n",
        "    filepath=checkpoint_filepath,\n",
        "    save_weights_only=True,\n",
        "    monitor='val_acc',\n",
        "    mode='max',\n",
        "    save_best_only=True)\n"
      ],
      "execution_count": 35,
      "outputs": []
    },
    {
      "cell_type": "markdown",
      "metadata": {
        "id": "IvJPwAG4ddz1",
        "colab_type": "text"
      },
      "source": [
        "# Defining the model"
      ]
    },
    {
      "cell_type": "code",
      "metadata": {
        "id": "b_6xHHSpH1lw",
        "colab_type": "code",
        "colab": {}
      },
      "source": [
        "def model(Training_Generator,Validation_Generator):\n",
        "  mask = tf.keras.models.Sequential([\n",
        "                             tf.keras.layers.Conv2D(200,(3,3),activation=tf.nn.relu,input_shape = (150,150,3)),\n",
        "                             tf.keras.layers.MaxPooling2D(2,2),\n",
        "                             \n",
        "                             tf.keras.layers.Conv2D(100,(3,3),activation=tf.nn.relu),\n",
        "                             tf.keras.layers.MaxPooling2D(2,2),\n",
        "                              \n",
        "                             tf.keras.layers.Conv2D(50,(3,3),activation=tf.nn.relu),\n",
        "                             tf.keras.layers.MaxPooling2D(2,2),\n",
        "                              \n",
        "                              \n",
        "                             tf.keras.layers.Conv2D(50,(3,3),activation=tf.nn.relu),\n",
        "                             tf.keras.layers.MaxPooling2D(2,2),\n",
        "                              \n",
        "                             tf.keras.layers.Flatten(), \n",
        "                             tf.keras.layers.Dense(50,activation =tf.nn.relu),\n",
        "                             tf.keras.layers.Dense(1,activation=tf.nn.sigmoid)                \n",
        "                            \n",
        "\n",
        "  ])\n",
        "  mask.summary()\n",
        "  mask.compile(optimizer=RMSprop(lr=0.001), loss='binary_crossentropy', metrics=['acc'])\n",
        "  history = mask.fit_generator( Training_Generator,\n",
        "                              epochs = 20,\n",
        "                              verbose = 2,\n",
        "                              validation_data = Validation_Generator,\n",
        "                              callbacks = [model_checkpoint_callback] )\n",
        "                              \n",
        "  "
      ],
      "execution_count": 36,
      "outputs": []
    },
    {
      "cell_type": "markdown",
      "metadata": {
        "id": "9pEsJyUMQoVx",
        "colab_type": "text"
      },
      "source": [
        "**Creating the Training and Validation Data**"
      ]
    },
    {
      "cell_type": "code",
      "metadata": {
        "id": "exfGfjzVJ53h",
        "colab_type": "code",
        "colab": {
          "base_uri": "https://localhost:8080/",
          "height": 51
        },
        "outputId": "b0323ed9-62da-4f0d-e439-ab063fe04029"
      },
      "source": [
        "training_dir = \"/content/drive/My Drive/Face_Mask/training/\"\n",
        "train_datagen = ImageDataGenerator(rescale = 1/255,\n",
        "                                   rotation_range =135,\n",
        "                                   vertical_flip=True,\n",
        "                                   shear_range =0.2,\n",
        "                                   height_shift_range =0.5,\n",
        "                                   width_shift_range =0.5,\n",
        "                                   fill_mode='nearest')\n",
        "\n",
        "validation_dir ='/content/drive/My Drive/Face_Mask/testing/'\n",
        "validation_datagen = ImageDataGenerator(rescale = 1/255,\n",
        "                                   rotation_range =135,\n",
        "                                   vertical_flip=True,\n",
        "                                   shear_range =0.2,\n",
        "                                   height_shift_range =0.5,\n",
        "                                   width_shift_range =0.5,\n",
        "                                   fill_mode='nearest')\n",
        "training_generator = train_datagen.flow_from_directory(\n",
        "    training_dir,\n",
        "    batch_size = 10,\n",
        "    target_size =(150,150),\n",
        "    class_mode ='binary'\n",
        ")\n",
        "\n",
        "validation_generator = validation_datagen.flow_from_directory(\n",
        "    validation_dir,\n",
        "    batch_size = 10,\n",
        "    target_size =(150,150),\n",
        "    class_mode ='binary'\n",
        ")"
      ],
      "execution_count": 23,
      "outputs": [
        {
          "output_type": "stream",
          "text": [
            "Found 1100 images belonging to 2 classes.\n",
            "Found 276 images belonging to 2 classes.\n"
          ],
          "name": "stdout"
        }
      ]
    },
    {
      "cell_type": "markdown",
      "metadata": {
        "id": "dlAkkwbxgV5p",
        "colab_type": "text"
      },
      "source": [
        "# Calling the model"
      ]
    },
    {
      "cell_type": "code",
      "metadata": {
        "id": "x0d5U_FYaKei",
        "colab_type": "code",
        "colab": {
          "base_uri": "https://localhost:8080/",
          "height": 1000
        },
        "outputId": "518cf380-01b5-4543-9691-16a95a394bc0"
      },
      "source": [
        "mask = model(training_generator,validation_generator)"
      ],
      "execution_count": 37,
      "outputs": [
        {
          "output_type": "stream",
          "text": [
            "Model: \"sequential_4\"\n",
            "_________________________________________________________________\n",
            "Layer (type)                 Output Shape              Param #   \n",
            "=================================================================\n",
            "conv2d_16 (Conv2D)           (None, 148, 148, 200)     5600      \n",
            "_________________________________________________________________\n",
            "max_pooling2d_16 (MaxPooling (None, 74, 74, 200)       0         \n",
            "_________________________________________________________________\n",
            "conv2d_17 (Conv2D)           (None, 72, 72, 100)       180100    \n",
            "_________________________________________________________________\n",
            "max_pooling2d_17 (MaxPooling (None, 36, 36, 100)       0         \n",
            "_________________________________________________________________\n",
            "conv2d_18 (Conv2D)           (None, 34, 34, 50)        45050     \n",
            "_________________________________________________________________\n",
            "max_pooling2d_18 (MaxPooling (None, 17, 17, 50)        0         \n",
            "_________________________________________________________________\n",
            "conv2d_19 (Conv2D)           (None, 15, 15, 50)        22550     \n",
            "_________________________________________________________________\n",
            "max_pooling2d_19 (MaxPooling (None, 7, 7, 50)          0         \n",
            "_________________________________________________________________\n",
            "flatten_4 (Flatten)          (None, 2450)              0         \n",
            "_________________________________________________________________\n",
            "dense_8 (Dense)              (None, 50)                122550    \n",
            "_________________________________________________________________\n",
            "dense_9 (Dense)              (None, 1)                 51        \n",
            "=================================================================\n",
            "Total params: 375,901\n",
            "Trainable params: 375,901\n",
            "Non-trainable params: 0\n",
            "_________________________________________________________________\n",
            "Epoch 1/20\n",
            "110/110 - 13s - loss: 0.7179 - acc: 0.4964 - val_loss: 0.6937 - val_acc: 0.5000\n",
            "Epoch 2/20\n",
            "110/110 - 13s - loss: 0.6985 - acc: 0.4991 - val_loss: 0.6926 - val_acc: 0.5109\n",
            "Epoch 3/20\n",
            "110/110 - 13s - loss: 0.6946 - acc: 0.4545 - val_loss: 0.6932 - val_acc: 0.5000\n",
            "Epoch 4/20\n",
            "110/110 - 13s - loss: 0.6942 - acc: 0.5055 - val_loss: 0.6932 - val_acc: 0.5000\n",
            "Epoch 5/20\n",
            "110/110 - 13s - loss: 0.6964 - acc: 0.4964 - val_loss: 0.6933 - val_acc: 0.5000\n",
            "Epoch 6/20\n",
            "110/110 - 13s - loss: 0.6970 - acc: 0.4991 - val_loss: 0.6928 - val_acc: 0.5109\n",
            "Epoch 7/20\n",
            "110/110 - 13s - loss: 0.6962 - acc: 0.5009 - val_loss: 0.6922 - val_acc: 0.5725\n",
            "Epoch 8/20\n",
            "110/110 - 13s - loss: 0.6952 - acc: 0.4891 - val_loss: 0.9897 - val_acc: 0.5000\n",
            "Epoch 9/20\n",
            "110/110 - 12s - loss: 0.7033 - acc: 0.5173 - val_loss: 0.6893 - val_acc: 0.5036\n",
            "Epoch 10/20\n",
            "110/110 - 13s - loss: 0.6959 - acc: 0.5482 - val_loss: 0.7681 - val_acc: 0.5000\n",
            "Epoch 11/20\n",
            "110/110 - 13s - loss: 0.6917 - acc: 0.5282 - val_loss: 0.6792 - val_acc: 0.6123\n",
            "Epoch 12/20\n",
            "110/110 - 13s - loss: 0.6785 - acc: 0.5727 - val_loss: 0.6736 - val_acc: 0.5833\n",
            "Epoch 13/20\n",
            "110/110 - 13s - loss: 0.6856 - acc: 0.5718 - val_loss: 0.6854 - val_acc: 0.5688\n",
            "Epoch 14/20\n",
            "110/110 - 13s - loss: 0.6817 - acc: 0.5782 - val_loss: 0.6876 - val_acc: 0.5399\n",
            "Epoch 15/20\n",
            "110/110 - 13s - loss: 0.6797 - acc: 0.5927 - val_loss: 0.6750 - val_acc: 0.5580\n",
            "Epoch 16/20\n",
            "110/110 - 13s - loss: 0.6590 - acc: 0.6400 - val_loss: 0.6645 - val_acc: 0.5725\n",
            "Epoch 17/20\n",
            "110/110 - 13s - loss: 0.6379 - acc: 0.6345 - val_loss: 0.6555 - val_acc: 0.5978\n",
            "Epoch 18/20\n",
            "110/110 - 13s - loss: 0.6678 - acc: 0.6264 - val_loss: 0.6644 - val_acc: 0.6159\n",
            "Epoch 19/20\n",
            "110/110 - 13s - loss: 0.6514 - acc: 0.6355 - val_loss: 0.6633 - val_acc: 0.6014\n",
            "Epoch 20/20\n",
            "110/110 - 13s - loss: 0.6293 - acc: 0.6291 - val_loss: 0.8149 - val_acc: 0.5362\n"
          ],
          "name": "stdout"
        }
      ]
    },
    {
      "cell_type": "code",
      "metadata": {
        "id": "x3Na3-0mnRAW",
        "colab_type": "code",
        "colab": {}
      },
      "source": [
        ""
      ],
      "execution_count": null,
      "outputs": []
    },
    {
      "cell_type": "code",
      "metadata": {
        "id": "EstdfUrtbphA",
        "colab_type": "code",
        "colab": {
          "base_uri": "https://localhost:8080/",
          "height": 231
        },
        "outputId": "b6f40144-af45-46b6-fd3a-decbf3a6c8a6"
      },
      "source": [
        ""
      ],
      "execution_count": 32,
      "outputs": [
        {
          "output_type": "error",
          "ename": "NameError",
          "evalue": "ignored",
          "traceback": [
            "\u001b[0;31m---------------------------------------------------------------------------\u001b[0m",
            "\u001b[0;31mNameError\u001b[0m                                 Traceback (most recent call last)",
            "\u001b[0;32m<ipython-input-32-5d92076fe24c>\u001b[0m in \u001b[0;36m<module>\u001b[0;34m()\u001b[0m\n\u001b[1;32m      1\u001b[0m \u001b[0;32mfrom\u001b[0m \u001b[0mmatplotlib\u001b[0m \u001b[0;32mimport\u001b[0m \u001b[0mpyplot\u001b[0m \u001b[0;32mas\u001b[0m \u001b[0mplt\u001b[0m\u001b[0;34m\u001b[0m\u001b[0;34m\u001b[0m\u001b[0m\n\u001b[1;32m      2\u001b[0m \u001b[0;34m\u001b[0m\u001b[0m\n\u001b[0;32m----> 3\u001b[0;31m \u001b[0mplt\u001b[0m\u001b[0;34m.\u001b[0m\u001b[0mplot\u001b[0m\u001b[0;34m(\u001b[0m\u001b[0mhistory\u001b[0m\u001b[0;34m.\u001b[0m\u001b[0mhistory\u001b[0m\u001b[0;34m[\u001b[0m\u001b[0;34m'loss'\u001b[0m\u001b[0;34m]\u001b[0m\u001b[0;34m,\u001b[0m\u001b[0;34m'r'\u001b[0m\u001b[0;34m,\u001b[0m\u001b[0mlabel\u001b[0m\u001b[0;34m=\u001b[0m\u001b[0;34m'training loss'\u001b[0m\u001b[0;34m)\u001b[0m\u001b[0;34m\u001b[0m\u001b[0;34m\u001b[0m\u001b[0m\n\u001b[0m\u001b[1;32m      4\u001b[0m \u001b[0mplt\u001b[0m\u001b[0;34m.\u001b[0m\u001b[0mplot\u001b[0m\u001b[0;34m(\u001b[0m\u001b[0mhistory\u001b[0m\u001b[0;34m.\u001b[0m\u001b[0mhistory\u001b[0m\u001b[0;34m[\u001b[0m\u001b[0;34m'val_loss'\u001b[0m\u001b[0;34m]\u001b[0m\u001b[0;34m,\u001b[0m\u001b[0mlabel\u001b[0m\u001b[0;34m=\u001b[0m\u001b[0;34m'validation loss'\u001b[0m\u001b[0;34m)\u001b[0m\u001b[0;34m\u001b[0m\u001b[0;34m\u001b[0m\u001b[0m\n\u001b[1;32m      5\u001b[0m \u001b[0mplt\u001b[0m\u001b[0;34m.\u001b[0m\u001b[0mxlabel\u001b[0m\u001b[0;34m(\u001b[0m\u001b[0;34m'# epochs'\u001b[0m\u001b[0;34m)\u001b[0m\u001b[0;34m\u001b[0m\u001b[0;34m\u001b[0m\u001b[0m\n",
            "\u001b[0;31mNameError\u001b[0m: name 'history' is not defined"
          ]
        }
      ]
    },
    {
      "cell_type": "code",
      "metadata": {
        "id": "qkkqf5UWnNcO",
        "colab_type": "code",
        "colab": {}
      },
      "source": [
        ""
      ],
      "execution_count": null,
      "outputs": []
    }
  ]
}